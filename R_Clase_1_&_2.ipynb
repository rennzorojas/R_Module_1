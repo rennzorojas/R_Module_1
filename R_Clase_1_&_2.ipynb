{
  "nbformat": 4,
  "nbformat_minor": 0,
  "metadata": {
    "colab": {
      "provenance": [],
      "authorship_tag": "ABX9TyNkDEODQ5tbX3Nmu0VAwuRB",
      "include_colab_link": true
    },
    "kernelspec": {
      "name": "ir",
      "display_name": "R"
    },
    "language_info": {
      "name": "R"
    }
  },
  "cells": [
    {
      "cell_type": "markdown",
      "metadata": {
        "id": "view-in-github",
        "colab_type": "text"
      },
      "source": [
        "<a href=\"https://colab.research.google.com/github/rennzorojas/R_Module_1/blob/main/R_Clase_1_%26_2.ipynb\" target=\"_parent\"><img src=\"https://colab.research.google.com/assets/colab-badge.svg\" alt=\"Open In Colab\"/></a>"
      ]
    },
    {
      "cell_type": "markdown",
      "source": [
        "#====== FOR\n"
      ],
      "metadata": {
        "id": "HPZiSLjCP6HI"
      }
    },
    {
      "cell_type": "code",
      "source": [
        "serie <- c(1:10)\n",
        "serie"
      ],
      "metadata": {
        "id": "WszmgZQDMNuM"
      },
      "execution_count": null,
      "outputs": []
    },
    {
      "cell_type": "code",
      "source": [
        "for (x in 1:10) {\n",
        "  print(x)\n",
        "}"
      ],
      "metadata": {
        "id": "9zRuSsbYMPWD"
      },
      "execution_count": null,
      "outputs": []
    },
    {
      "cell_type": "code",
      "source": [
        "amplifier <- c(\"pioneer\",\"sansui\",\"denon\",\"sony\",\"sharp\")\n",
        "\n",
        "for (x in amplifier){\n",
        "  if (x == \"denon\"){\n",
        "    break\n",
        "  }\n",
        "  print (x)\n",
        "}"
      ],
      "metadata": {
        "id": "jmEay7GRMUeO"
      },
      "execution_count": null,
      "outputs": []
    },
    {
      "cell_type": "code",
      "source": [
        "for (x in amplifier){\n",
        "  if (x == \"sony\"){\n",
        "    break\n",
        "  }\n",
        "  print (x)\n",
        "}"
      ],
      "metadata": {
        "id": "LgEKBGfSMXAs"
      },
      "execution_count": null,
      "outputs": []
    },
    {
      "cell_type": "code",
      "source": [
        "COVID_cycle <- 2001:2023\n",
        "\n",
        "for (x in COVID_cycle) {\n",
        "  if (x == 2020) {\n",
        "    print(paste(\"El COVID-19 empezó el año\", x, \"en el mundo\"))\n",
        "  } \n",
        "  if (x < 2020){\n",
        "    print(paste(\"El\", x, \"es un año pre-COVID\"))\n",
        "  }\n",
        "  if (x > 2020){\n",
        "    print(paste(\"El\", x, \"es un año post-COVID\"))\n",
        "  }\n",
        "  if (x == 2022){\n",
        "    print(paste(\"El año\", x, \"terminó el COVID\"))\n",
        "    break\n",
        "  }\n",
        "}\n",
        "\n",
        "plot(COVID_cycle)"
      ],
      "metadata": {
        "id": "zrOq6qqNMYtJ"
      },
      "execution_count": null,
      "outputs": []
    },
    {
      "cell_type": "markdown",
      "source": [
        "#====== DATA FRAME\n",
        "[texto del enlace](https://)"
      ],
      "metadata": {
        "id": "GuFLd-yYPvAc"
      }
    },
    {
      "cell_type": "code",
      "source": [
        "nombre <- c(\"pepe\", \"pepa\", \"luli\")\n",
        "edad <- c(23, 43, 56)\n",
        "\n",
        "base <- data.frame(nombre, edad)\n",
        "base[2,1]"
      ],
      "metadata": {
        "id": "0ZEtFNtXP_oP"
      },
      "execution_count": null,
      "outputs": []
    },
    {
      "cell_type": "code",
      "source": [
        "audio_base <- data.frame (\n",
        "  Amplifier = c(\"Pioneer\",\"Sansui\",\"Adcom\",\"Sony\"),\n",
        "  Power = c(80,50,200,25),\n",
        "  Voltage = c(220,110,110,220),\n",
        "  Manufacture_year = c(1970,1967,1980,1975)\n",
        ")\n",
        "\n",
        "# Print the Data Frame\n",
        "audio_base\n",
        "summary(audio_base)\n",
        "plot(audio_base)"
      ],
      "metadata": {
        "id": "vvZdZ7TfQCP_"
      },
      "execution_count": null,
      "outputs": []
    },
    {
      "cell_type": "markdown",
      "source": [
        "#====== C\n"
      ],
      "metadata": {
        "id": "NQfQnx6xQszy"
      }
    },
    {
      "cell_type": "code",
      "source": [
        "x <- c(5,10,8,7,9)\n",
        "mean(x)\n",
        "var(x)\n",
        "max(x)\n",
        "min(x)\n",
        "length(x)"
      ],
      "metadata": {
        "id": "J__6jcYJQwJw"
      },
      "execution_count": null,
      "outputs": []
    },
    {
      "cell_type": "code",
      "source": [
        "x <- c(5,10,8,7,9)\n",
        "mean(x)\n",
        "var(x)\n",
        "max(x)\n",
        "min(x)\n",
        "length(x)\n",
        "\n",
        "y <- c(1:10)\n",
        "y"
      ],
      "metadata": {
        "id": "8t0pg1YBQ5Mp"
      },
      "execution_count": null,
      "outputs": []
    }
  ]
}