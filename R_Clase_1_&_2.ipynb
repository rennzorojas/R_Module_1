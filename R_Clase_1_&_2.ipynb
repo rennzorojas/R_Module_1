{
  "nbformat": 4,
  "nbformat_minor": 0,
  "metadata": {
    "colab": {
      "provenance": [],
      "authorship_tag": "ABX9TyMtWvR1MWDEqzRBid16c+Qw",
      "include_colab_link": true
    },
    "kernelspec": {
      "name": "ir",
      "display_name": "R"
    },
    "language_info": {
      "name": "R"
    }
  },
  "cells": [
    {
      "cell_type": "markdown",
      "metadata": {
        "id": "view-in-github",
        "colab_type": "text"
      },
      "source": [
        "<a href=\"https://colab.research.google.com/github/rennzorojas/R_Module_1/blob/main/R_Clase_1_%26_2.ipynb\" target=\"_parent\"><img src=\"https://colab.research.google.com/assets/colab-badge.svg\" alt=\"Open In Colab\"/></a>"
      ]
    },
    {
      "cell_type": "markdown",
      "source": [
        "\n",
        "\n",
        "```\n",
        "#====== FOR\n",
        "```\n",
        "\n"
      ],
      "metadata": {
        "id": "_ZOiMdIcM6A8"
      }
    },
    {
      "cell_type": "code",
      "source": [
        "serie <- c(1:10)\n",
        "serie"
      ],
      "metadata": {
        "id": "WszmgZQDMNuM"
      },
      "execution_count": null,
      "outputs": []
    },
    {
      "cell_type": "code",
      "source": [
        "for (x in 1:10) {\n",
        "  print(x)\n",
        "}"
      ],
      "metadata": {
        "id": "9zRuSsbYMPWD"
      },
      "execution_count": null,
      "outputs": []
    },
    {
      "cell_type": "code",
      "source": [
        "amplifier <- c(\"pioneer\",\"sansui\",\"denon\",\"sony\",\"sharp\")\n",
        "\n",
        "for (x in amplifier){\n",
        "  if (x == \"denon\"){\n",
        "    break\n",
        "  }\n",
        "  print (x)\n",
        "}"
      ],
      "metadata": {
        "id": "jmEay7GRMUeO"
      },
      "execution_count": null,
      "outputs": []
    },
    {
      "cell_type": "code",
      "source": [
        "for (x in amplifier){\n",
        "  if (x == \"sony\"){\n",
        "    break\n",
        "  }\n",
        "  print (x)\n",
        "}"
      ],
      "metadata": {
        "id": "LgEKBGfSMXAs"
      },
      "execution_count": null,
      "outputs": []
    },
    {
      "cell_type": "code",
      "source": [
        "COVID_cycle <- 2001:2023\n",
        "\n",
        "for (x in COVID_cycle) {\n",
        "  if (x == 2020) {\n",
        "    print(paste(\"El COVID-19 empezó el año\", x, \"en el mundo\"))\n",
        "  } \n",
        "  if (x < 2020){\n",
        "    print(paste(\"El\", x, \"es un año pre-COVID\"))\n",
        "  }\n",
        "  if (x > 2020){\n",
        "    print(paste(\"El\", x, \"es un año post-COVID\"))\n",
        "  }\n",
        "  if (x == 2022){\n",
        "    print(paste(\"El año\", x, \"terminó el COVID\"))\n",
        "    break\n",
        "  }\n",
        "}\n",
        "\n",
        "plot(COVID_cycle)"
      ],
      "metadata": {
        "id": "zrOq6qqNMYtJ"
      },
      "execution_count": null,
      "outputs": []
    }
  ]
}